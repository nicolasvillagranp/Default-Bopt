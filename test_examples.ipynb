{
 "cells": [
  {
   "cell_type": "code",
   "execution_count": 3,
   "metadata": {},
   "outputs": [],
   "source": [
    "from src.tests import test_dataset_random, test_dataset_mlp\n",
    "from sklearn.datasets import load_breast_cancer, fetch_covtype\n",
    "import numpy as np\n",
    "import warnings\n",
    "warnings.filterwarnings('ignore')"
   ]
  },
  {
   "cell_type": "code",
   "execution_count": null,
   "metadata": {},
   "outputs": [
    {
     "name": "stdout",
     "output_type": "stream",
     "text": [
      "------Trial number 1------\n"
     ]
    },
    {
     "name": "stderr",
     "output_type": "stream",
     "text": [
      "Bayesian Optimization Progress: 100%|██████████| 20/20 [00:15<00:00,  1.31iter/s, Best Score=0.9626]\n"
     ]
    },
    {
     "name": "stdout",
     "output_type": "stream",
     "text": [
      "Best Hyperparameters (Random Init): {'n_estimators': 54, 'min_samples_split': 5, 'min_samples_leaf': 1}\n",
      "Best accuracy: 0.9626373626373628\n",
      "\n"
     ]
    },
    {
     "name": "stderr",
     "output_type": "stream",
     "text": [
      "Bayesian Optimization Progress: 100%|██████████| 20/20 [00:11<00:00,  1.71iter/s, Best Score=0.9626]\n"
     ]
    },
    {
     "name": "stdout",
     "output_type": "stream",
     "text": [
      "Best Hyperparameters (Sample Init): {'n_estimators': 59, 'min_samples_split': 6, 'min_samples_leaf': 1}\n",
      "Best accuracy: 0.9626373626373628\n",
      "\n",
      "------Trial number 2------\n"
     ]
    },
    {
     "name": "stderr",
     "output_type": "stream",
     "text": [
      "Bayesian Optimization Progress: 100%|██████████| 20/20 [00:15<00:00,  1.33iter/s, Best Score=0.9648]\n"
     ]
    },
    {
     "name": "stdout",
     "output_type": "stream",
     "text": [
      "Best Hyperparameters (Random Init): {'n_estimators': 200, 'min_samples_split': 2, 'min_samples_leaf': 1}\n",
      "Best accuracy: 0.9648351648351647\n",
      "\n"
     ]
    },
    {
     "name": "stderr",
     "output_type": "stream",
     "text": [
      "Bayesian Optimization Progress: 100%|██████████| 20/20 [00:14<00:00,  1.35iter/s, Best Score=0.9670]\n"
     ]
    },
    {
     "name": "stdout",
     "output_type": "stream",
     "text": [
      "Best Hyperparameters (Sample Init): {'n_estimators': 98, 'min_samples_split': 3, 'min_samples_leaf': 1}\n",
      "Best accuracy: 0.9670329670329672\n",
      "\n",
      "------Trial number 3------\n"
     ]
    },
    {
     "name": "stderr",
     "output_type": "stream",
     "text": [
      "Bayesian Optimization Progress: 100%|██████████| 20/20 [00:18<00:00,  1.08iter/s, Best Score=0.9626]\n"
     ]
    },
    {
     "name": "stdout",
     "output_type": "stream",
     "text": [
      "Best Hyperparameters (Random Init): {'n_estimators': 200, 'min_samples_split': 2, 'min_samples_leaf': 1}\n",
      "Best accuracy: 0.9626373626373628\n",
      "\n"
     ]
    },
    {
     "name": "stderr",
     "output_type": "stream",
     "text": [
      "Bayesian Optimization Progress: 100%|██████████| 20/20 [00:17<00:00,  1.16iter/s, Best Score=0.9626]\n"
     ]
    },
    {
     "name": "stdout",
     "output_type": "stream",
     "text": [
      "Best Hyperparameters (Sample Init): {'n_estimators': 177, 'min_samples_split': 2, 'min_samples_leaf': 1}\n",
      "Best accuracy: 0.9626373626373628\n",
      "\n",
      "------Trial number 4------\n"
     ]
    },
    {
     "name": "stderr",
     "output_type": "stream",
     "text": [
      "Bayesian Optimization Progress: 100%|██████████| 20/20 [00:18<00:00,  1.08iter/s, Best Score=0.9582]\n"
     ]
    },
    {
     "name": "stdout",
     "output_type": "stream",
     "text": [
      "Best Hyperparameters (Random Init): {'n_estimators': 101, 'min_samples_split': 2, 'min_samples_leaf': 3}\n",
      "Best accuracy: 0.9582417582417582\n",
      "\n"
     ]
    },
    {
     "name": "stderr",
     "output_type": "stream",
     "text": [
      "Bayesian Optimization Progress: 100%|██████████| 20/20 [00:19<00:00,  1.05iter/s, Best Score=0.9604]\n"
     ]
    },
    {
     "name": "stdout",
     "output_type": "stream",
     "text": [
      "Best Hyperparameters (Sample Init): {'n_estimators': 123, 'min_samples_split': 10, 'min_samples_leaf': 4}\n",
      "Best accuracy: 0.9604395604395604\n",
      "\n",
      "------Trial number 5------\n"
     ]
    },
    {
     "name": "stderr",
     "output_type": "stream",
     "text": [
      "Bayesian Optimization Progress: 100%|██████████| 20/20 [00:21<00:00,  1.07s/iter, Best Score=0.9714]\n"
     ]
    },
    {
     "name": "stdout",
     "output_type": "stream",
     "text": [
      "Best Hyperparameters (Random Init): {'n_estimators': 182, 'min_samples_split': 4, 'min_samples_leaf': 1}\n",
      "Best accuracy: 0.9714285714285713\n",
      "\n"
     ]
    },
    {
     "name": "stderr",
     "output_type": "stream",
     "text": [
      "Bayesian Optimization Progress: 100%|██████████| 20/20 [00:17<00:00,  1.14iter/s, Best Score=0.9758]"
     ]
    },
    {
     "name": "stdout",
     "output_type": "stream",
     "text": [
      "Best Hyperparameters (Sample Init): {'n_estimators': 97, 'min_samples_split': 3, 'min_samples_leaf': 1}\n",
      "Best accuracy: 0.9758241758241757\n",
      "\n",
      "The average of best sample accuracy is 0.9657142857142859\n",
      "The std of best sample accuracy is 0.005490108130460071\n",
      "The average of best random accuracy is 0.9639560439560441\n",
      "The std of best random accuracy is 0.004306795152146205\n"
     ]
    },
    {
     "name": "stderr",
     "output_type": "stream",
     "text": [
      "\n"
     ]
    }
   ],
   "source": [
    "# 1. Load the breast cancer dataset (Easy example)\n",
    "\n",
    "\n",
    "data = load_breast_cancer()\n",
    "X = data.data\n",
    "y = data.target\n",
    "\n",
    "trials = 5\n",
    "sample = [0] * trials\n",
    "random = [0] * trials\n",
    "\n",
    "\n",
    "# The third argument for the test_dataset function is the seed for reproductibility. \n",
    "# The warning that triggers is due to a lack of variance of Y outcomes during bayes opt.\n",
    "\n",
    "# Try 5 examples of the process\n",
    "for i in range(trials):\n",
    "    print(f'------Trial number {i + 1}------')\n",
    "    result = test_dataset_random(X, y, seed=40 + i)\n",
    "    sample[i] = result[0]\n",
    "    random[i] = result[1]\n",
    "\n",
    "print(f'The average of best sample accuracy is {np.mean(sample)}')\n",
    "print(f'The std of best sample accuracy is {np.std(sample)}')\n",
    "\n",
    "print(f'The average of best random accuracy is {np.mean(random)}')\n",
    "print(f'The std of best random accuracy is {np.std(random)}')"
   ]
  },
  {
   "cell_type": "code",
   "execution_count": null,
   "metadata": {},
   "outputs": [
    {
     "name": "stdout",
     "output_type": "stream",
     "text": [
      "------Trial number 1------\n"
     ]
    },
    {
     "name": "stderr",
     "output_type": "stream",
     "text": [
      "Bayesian Optimization Progress: 100%|██████████| 20/20 [00:49<00:00,  2.48s/iter, Best Score=0.8448]\n"
     ]
    },
    {
     "name": "stdout",
     "output_type": "stream",
     "text": [
      "Best Hyperparameters (Random Init): {'n_estimators': 200, 'min_samples_split': 3, 'min_samples_leaf': 1}\n",
      "Best accuracy: 0.8447500000000001\n",
      "\n"
     ]
    },
    {
     "name": "stderr",
     "output_type": "stream",
     "text": [
      "Bayesian Optimization Progress: 100%|██████████| 20/20 [00:41<00:00,  2.09s/iter, Best Score=0.8471]\n"
     ]
    },
    {
     "name": "stdout",
     "output_type": "stream",
     "text": [
      "Best Hyperparameters (Sample Init): {'n_estimators': 145, 'min_samples_split': 2, 'min_samples_leaf': 1}\n",
      "Best accuracy: 0.8471250000000001\n",
      "\n",
      "------Trial number 2------\n"
     ]
    },
    {
     "name": "stderr",
     "output_type": "stream",
     "text": [
      "Bayesian Optimization Progress: 100%|██████████| 20/20 [00:46<00:00,  2.31s/iter, Best Score=0.8435]\n"
     ]
    },
    {
     "name": "stdout",
     "output_type": "stream",
     "text": [
      "Best Hyperparameters (Random Init): {'n_estimators': 190, 'min_samples_split': 4, 'min_samples_leaf': 1}\n",
      "Best accuracy: 0.8435\n",
      "\n"
     ]
    },
    {
     "name": "stderr",
     "output_type": "stream",
     "text": [
      "Bayesian Optimization Progress: 100%|██████████| 20/20 [00:40<00:00,  2.04s/iter, Best Score=0.8444]\n"
     ]
    },
    {
     "name": "stdout",
     "output_type": "stream",
     "text": [
      "Best Hyperparameters (Sample Init): {'n_estimators': 133, 'min_samples_split': 4, 'min_samples_leaf': 1}\n",
      "Best accuracy: 0.844375\n",
      "\n",
      "------Trial number 3------\n"
     ]
    },
    {
     "name": "stderr",
     "output_type": "stream",
     "text": [
      "Bayesian Optimization Progress: 100%|██████████| 20/20 [00:56<00:00,  2.81s/iter, Best Score=0.8480]\n"
     ]
    },
    {
     "name": "stdout",
     "output_type": "stream",
     "text": [
      "Best Hyperparameters (Random Init): {'n_estimators': 200, 'min_samples_split': 2, 'min_samples_leaf': 1}\n",
      "Best accuracy: 0.8480000000000001\n",
      "\n"
     ]
    },
    {
     "name": "stderr",
     "output_type": "stream",
     "text": [
      "Bayesian Optimization Progress: 100%|██████████| 20/20 [00:55<00:00,  2.77s/iter, Best Score=0.8480]\n"
     ]
    },
    {
     "name": "stdout",
     "output_type": "stream",
     "text": [
      "Best Hyperparameters (Sample Init): {'n_estimators': 200, 'min_samples_split': 2, 'min_samples_leaf': 1}\n",
      "Best accuracy: 0.8480000000000001\n",
      "\n",
      "------Trial number 4------\n"
     ]
    },
    {
     "name": "stderr",
     "output_type": "stream",
     "text": [
      "Bayesian Optimization Progress: 100%|██████████| 20/20 [00:50<00:00,  2.52s/iter, Best Score=0.8421]\n"
     ]
    },
    {
     "name": "stdout",
     "output_type": "stream",
     "text": [
      "Best Hyperparameters (Random Init): {'n_estimators': 200, 'min_samples_split': 2, 'min_samples_leaf': 1}\n",
      "Best accuracy: 0.842125\n",
      "\n"
     ]
    },
    {
     "name": "stderr",
     "output_type": "stream",
     "text": [
      "Bayesian Optimization Progress: 100%|██████████| 20/20 [00:53<00:00,  2.66s/iter, Best Score=0.8430]\n"
     ]
    },
    {
     "name": "stdout",
     "output_type": "stream",
     "text": [
      "Best Hyperparameters (Sample Init): {'n_estimators': 171, 'min_samples_split': 2, 'min_samples_leaf': 1}\n",
      "Best accuracy: 0.843\n",
      "\n",
      "------Trial number 5------\n"
     ]
    },
    {
     "name": "stderr",
     "output_type": "stream",
     "text": [
      "Bayesian Optimization Progress: 100%|██████████| 20/20 [00:50<00:00,  2.50s/iter, Best Score=0.8425]\n"
     ]
    },
    {
     "name": "stdout",
     "output_type": "stream",
     "text": [
      "Best Hyperparameters (Random Init): {'n_estimators': 165, 'min_samples_split': 2, 'min_samples_leaf': 1}\n",
      "Best accuracy: 0.8425\n",
      "\n"
     ]
    },
    {
     "name": "stderr",
     "output_type": "stream",
     "text": [
      "Bayesian Optimization Progress: 100%|██████████| 20/20 [00:50<00:00,  2.52s/iter, Best Score=0.8432]"
     ]
    },
    {
     "name": "stdout",
     "output_type": "stream",
     "text": [
      "Best Hyperparameters (Sample Init): {'n_estimators': 200, 'min_samples_split': 3, 'min_samples_leaf': 1}\n",
      "Best accuracy: 0.8432499999999999\n",
      "\n",
      "The average of best sample accuracy is 0.8451500000000001\n",
      "The std of best sample accuracy is 0.0020423638265500764\n",
      "The average of best random accuracy is 0.8441750000000001\n",
      "The std of best random accuracy is 0.002117781858454766\n"
     ]
    },
    {
     "name": "stderr",
     "output_type": "stream",
     "text": [
      "\n"
     ]
    },
    {
     "ename": "",
     "evalue": "",
     "output_type": "error",
     "traceback": [
      "\u001b[1;31mThe Kernel crashed while executing code in the current cell or a previous cell. \n",
      "\u001b[1;31mPlease review the code in the cell(s) to identify a possible cause of the failure. \n",
      "\u001b[1;31mClick <a href='https://aka.ms/vscodeJupyterKernelCrash'>here</a> for more info. \n",
      "\u001b[1;31mView Jupyter <a href='command:jupyter.viewOutput'>log</a> for further details."
     ]
    }
   ],
   "source": [
    "# 1. Load the Covertype dataset (A little bit more complicated with few data points)\n",
    "data = fetch_covtype()\n",
    "X = data.data\n",
    "y = data.target\n",
    "\n",
    "\n",
    "subset_size = 10 ** 4\n",
    "X = X[:subset_size]\n",
    "y = y[:subset_size]\n",
    "\n",
    "\n",
    "# Try 5 examples of the process\n",
    "for i in range(trials):\n",
    "    print(f'------Trial number {i + 1}------')\n",
    "    result = test_dataset_random(X, y, seed= 40 + i)\n",
    "    sample[i] = result[0]\n",
    "    random[i] = result[1]\n",
    "\n",
    "print(f'The average of best sample accuracy is {np.mean(sample)}')\n",
    "print(f'The std of best sample accuracy is {np.std(sample)}')\n",
    "\n",
    "print(f'The average of best random accuracy is {np.mean(random)}')\n",
    "print(f'The std of best random accuracy is {np.std(random)}')\n"
   ]
  },
  {
   "cell_type": "code",
   "execution_count": 4,
   "metadata": {},
   "outputs": [
    {
     "name": "stdout",
     "output_type": "stream",
     "text": [
      "------Trial number 1------\n"
     ]
    },
    {
     "name": "stderr",
     "output_type": "stream",
     "text": [
      "Bayesian Optimization Progress: 100%|██████████| 5/5 [00:02<00:00,  1.69iter/s, Best Score=0.9692]\n"
     ]
    },
    {
     "name": "stdout",
     "output_type": "stream",
     "text": [
      "Best Score: 0.9692\n",
      "Best Parameters: {'learning_rate_init': 0.09020209354408544, 'alpha': 0.0019768710853122367}\n",
      "Best Hyperparameters (Random Init): {'learning_rate_init': 0.09020209354408544, 'alpha': 0.0019768710853122367}\n",
      "Best accuracy: 0.9692307692307693\n",
      "\n"
     ]
    },
    {
     "name": "stderr",
     "output_type": "stream",
     "text": [
      "Bayesian Optimization Progress: 100%|██████████| 5/5 [00:02<00:00,  1.68iter/s, Best Score=0.9670]\n"
     ]
    },
    {
     "name": "stdout",
     "output_type": "stream",
     "text": [
      "Best Score: 0.9670\n",
      "Best Parameters: {'learning_rate_init': 0.01863658973996561, 'alpha': 0.05933405212084762}\n",
      "Best Hyperparameters (Sample Init): {'learning_rate_init': 0.01863658973996561, 'alpha': 0.05933405212084762}\n",
      "Best accuracy: 0.9670329670329669\n",
      "\n",
      "------Trial number 2------\n"
     ]
    },
    {
     "name": "stderr",
     "output_type": "stream",
     "text": [
      "Bayesian Optimization Progress: 100%|██████████| 5/5 [00:02<00:00,  1.80iter/s, Best Score=0.9736]\n"
     ]
    },
    {
     "name": "stdout",
     "output_type": "stream",
     "text": [
      "Best Score: 0.9736\n",
      "Best Parameters: {'learning_rate_init': 0.03813240733652989, 'alpha': 0.07386504871155573}\n",
      "Best Hyperparameters (Random Init): {'learning_rate_init': 0.03813240733652989, 'alpha': 0.07386504871155573}\n",
      "Best accuracy: 0.9736263736263737\n",
      "\n"
     ]
    },
    {
     "name": "stderr",
     "output_type": "stream",
     "text": [
      "Bayesian Optimization Progress: 100%|██████████| 5/5 [00:02<00:00,  1.88iter/s, Best Score=0.9692]\n"
     ]
    },
    {
     "name": "stdout",
     "output_type": "stream",
     "text": [
      "Best Score: 0.9692\n",
      "Best Parameters: {'learning_rate_init': 0.008554530154514241, 'alpha': 9.999999747378752e-06}\n",
      "Best Hyperparameters (Sample Init): {'learning_rate_init': 0.008554530154514241, 'alpha': 9.999999747378752e-06}\n",
      "Best accuracy: 0.9692307692307693\n",
      "\n",
      "------Trial number 3------\n"
     ]
    },
    {
     "name": "stderr",
     "output_type": "stream",
     "text": [
      "Bayesian Optimization Progress: 100%|██████████| 5/5 [00:02<00:00,  2.03iter/s, Best Score=0.9802]\n"
     ]
    },
    {
     "name": "stdout",
     "output_type": "stream",
     "text": [
      "Best Score: 0.9802\n",
      "Best Parameters: {'learning_rate_init': 0.01040246747469625, 'alpha': 0.03254078521524321}\n",
      "Best Hyperparameters (Random Init): {'learning_rate_init': 0.01040246747469625, 'alpha': 0.03254078521524321}\n",
      "Best accuracy: 0.9802197802197803\n",
      "\n"
     ]
    },
    {
     "name": "stderr",
     "output_type": "stream",
     "text": [
      "Bayesian Optimization Progress: 100%|██████████| 5/5 [00:02<00:00,  1.77iter/s, Best Score=0.9802]\n"
     ]
    },
    {
     "name": "stdout",
     "output_type": "stream",
     "text": [
      "Best Score: 0.9802\n",
      "Best Parameters: {'learning_rate_init': 0.01388634884608099, 'alpha': 0.04097728426137092}\n",
      "Best Hyperparameters (Sample Init): {'learning_rate_init': 0.01388634884608099, 'alpha': 0.04097728426137092}\n",
      "Best accuracy: 0.9802197802197803\n",
      "\n",
      "------Trial number 4------\n"
     ]
    },
    {
     "name": "stderr",
     "output_type": "stream",
     "text": [
      "Bayesian Optimization Progress: 100%|██████████| 5/5 [00:02<00:00,  2.03iter/s, Best Score=0.9780]\n"
     ]
    },
    {
     "name": "stdout",
     "output_type": "stream",
     "text": [
      "Best Score: 0.9780\n",
      "Best Parameters: {'learning_rate_init': 0.03414977842706519, 'alpha': 9.999999747378752e-06}\n",
      "Best Hyperparameters (Random Init): {'learning_rate_init': 0.03414977842706519, 'alpha': 9.999999747378752e-06}\n",
      "Best accuracy: 0.9780219780219779\n",
      "\n"
     ]
    },
    {
     "name": "stderr",
     "output_type": "stream",
     "text": [
      "Bayesian Optimization Progress: 100%|██████████| 5/5 [00:02<00:00,  2.09iter/s, Best Score=0.9802]\n"
     ]
    },
    {
     "name": "stdout",
     "output_type": "stream",
     "text": [
      "Best Score: 0.9802\n",
      "Best Parameters: {'learning_rate_init': 0.014733291365691752, 'alpha': 0.009063465592257668}\n",
      "Best Hyperparameters (Sample Init): {'learning_rate_init': 0.014733291365691752, 'alpha': 0.009063465592257668}\n",
      "Best accuracy: 0.9802197802197803\n",
      "\n",
      "------Trial number 5------\n"
     ]
    },
    {
     "name": "stderr",
     "output_type": "stream",
     "text": [
      "Bayesian Optimization Progress: 100%|██████████| 5/5 [00:02<00:00,  1.78iter/s, Best Score=0.9758]\n"
     ]
    },
    {
     "name": "stdout",
     "output_type": "stream",
     "text": [
      "Best Score: 0.9758\n",
      "Best Parameters: {'learning_rate_init': 0.09857896625330118, 'alpha': 9.999999747378752e-06}\n",
      "Best Hyperparameters (Random Init): {'learning_rate_init': 0.09857896625330118, 'alpha': 9.999999747378752e-06}\n",
      "Best accuracy: 0.9758241758241759\n",
      "\n"
     ]
    },
    {
     "name": "stderr",
     "output_type": "stream",
     "text": [
      "Bayesian Optimization Progress: 100%|██████████| 5/5 [00:02<00:00,  1.92iter/s, Best Score=0.9780]"
     ]
    },
    {
     "name": "stdout",
     "output_type": "stream",
     "text": [
      "Best Score: 0.9780\n",
      "Best Parameters: {'learning_rate_init': 0.02756694019242078, 'alpha': 0.014054598845997444}\n",
      "Best Hyperparameters (Sample Init): {'learning_rate_init': 0.02756694019242078, 'alpha': 0.014054598845997444}\n",
      "Best accuracy: 0.9780219780219781\n",
      "\n",
      "The average of best sample accuracy is 0.974945054945055\n",
      "The std of best sample accuracy is 0.005663340099659438\n",
      "The average of best random accuracy is 0.9753846153846155\n",
      "The std of best random accuracy is 0.003781241875623088\n"
     ]
    },
    {
     "name": "stderr",
     "output_type": "stream",
     "text": [
      "\n"
     ]
    }
   ],
   "source": [
    "# 1. Load the breast cancer dataset (Easy example)\n",
    "\n",
    "\n",
    "data = load_breast_cancer()\n",
    "X = data.data\n",
    "y = data.target\n",
    "\n",
    "trials = 5\n",
    "sample = [0] * trials\n",
    "random = [0] * trials\n",
    "\n",
    "\n",
    "# The third argument for the test_dataset function is the seed for reproductibility. \n",
    "# The warning that triggers is due to a lack of variance of Y outcomes during bayes opt.\n",
    "\n",
    "# Try 5 examples of the process\n",
    "for i in range(trials):\n",
    "    print(f'------Trial number {i + 1}------')\n",
    "    result = test_dataset_mlp(X, y, seed=40 + i)\n",
    "    sample[i] = result[0]\n",
    "    random[i] = result[1]\n",
    "\n",
    "print(f'The average of best sample accuracy is {np.mean(sample)}')\n",
    "print(f'The std of best sample accuracy is {np.std(sample)}')\n",
    "\n",
    "print(f'The average of best random accuracy is {np.mean(random)}')\n",
    "print(f'The std of best random accuracy is {np.std(random)}')"
   ]
  },
  {
   "cell_type": "code",
   "execution_count": 5,
   "metadata": {},
   "outputs": [
    {
     "name": "stdout",
     "output_type": "stream",
     "text": [
      "------Trial number 1------\n"
     ]
    },
    {
     "name": "stderr",
     "output_type": "stream",
     "text": [
      "Bayesian Optimization Progress: 100%|██████████| 5/5 [00:26<00:00,  5.38s/iter, Best Score=0.8019]\n"
     ]
    },
    {
     "name": "stdout",
     "output_type": "stream",
     "text": [
      "Best Score: 0.8019\n",
      "Best Parameters: {'learning_rate_init': 0.030651388559844603, 'alpha': 9.999999747378752e-06}\n",
      "Best Hyperparameters (Random Init): {'learning_rate_init': 0.030651388559844603, 'alpha': 9.999999747378752e-06}\n",
      "Best accuracy: 0.8018749999999999\n",
      "\n"
     ]
    },
    {
     "name": "stderr",
     "output_type": "stream",
     "text": [
      "Bayesian Optimization Progress: 100%|██████████| 5/5 [00:21<00:00,  4.31s/iter, Best Score=0.8024]\n"
     ]
    },
    {
     "name": "stdout",
     "output_type": "stream",
     "text": [
      "Best Score: 0.8024\n",
      "Best Parameters: {'learning_rate_init': 0.013824308477512042, 'alpha': 9.999999747378752e-06}\n",
      "Best Hyperparameters (Sample Init): {'learning_rate_init': 0.013824308477512042, 'alpha': 9.999999747378752e-06}\n",
      "Best accuracy: 0.8023750000000002\n",
      "\n",
      "------Trial number 2------\n"
     ]
    },
    {
     "name": "stderr",
     "output_type": "stream",
     "text": [
      "Bayesian Optimization Progress: 100%|██████████| 5/5 [00:29<00:00,  5.95s/iter, Best Score=0.7930]\n"
     ]
    },
    {
     "name": "stdout",
     "output_type": "stream",
     "text": [
      "Best Score: 0.7930\n",
      "Best Parameters: {'learning_rate_init': 0.029844580737943785, 'alpha': 9.999999747378752e-06}\n",
      "Best Hyperparameters (Random Init): {'learning_rate_init': 0.029844580737943785, 'alpha': 9.999999747378752e-06}\n",
      "Best accuracy: 0.7929999999999999\n",
      "\n"
     ]
    },
    {
     "name": "stderr",
     "output_type": "stream",
     "text": [
      "Bayesian Optimization Progress: 100%|██████████| 5/5 [00:25<00:00,  5.06s/iter, Best Score=0.8044]\n"
     ]
    },
    {
     "name": "stdout",
     "output_type": "stream",
     "text": [
      "Best Score: 0.8044\n",
      "Best Parameters: {'learning_rate_init': 0.003670313289467468, 'alpha': 0.10000001026128302}\n",
      "Best Hyperparameters (Sample Init): {'learning_rate_init': 0.003670313289467468, 'alpha': 0.10000001026128302}\n",
      "Best accuracy: 0.804375\n",
      "\n",
      "------Trial number 3------\n"
     ]
    },
    {
     "name": "stderr",
     "output_type": "stream",
     "text": [
      "Bayesian Optimization Progress: 100%|██████████| 5/5 [00:28<00:00,  5.79s/iter, Best Score=0.8043]\n"
     ]
    },
    {
     "name": "stdout",
     "output_type": "stream",
     "text": [
      "Best Score: 0.8043\n",
      "Best Parameters: {'learning_rate_init': 0.010655684277454423, 'alpha': 0.004418588693356359}\n",
      "Best Hyperparameters (Random Init): {'learning_rate_init': 0.010655684277454423, 'alpha': 0.004418588693356359}\n",
      "Best accuracy: 0.80425\n",
      "\n"
     ]
    },
    {
     "name": "stderr",
     "output_type": "stream",
     "text": [
      "Bayesian Optimization Progress: 100%|██████████| 5/5 [00:27<00:00,  5.43s/iter, Best Score=0.8107]\n"
     ]
    },
    {
     "name": "stdout",
     "output_type": "stream",
     "text": [
      "Best Score: 0.8107\n",
      "Best Parameters: {'learning_rate_init': 0.013711242479867403, 'alpha': 9.999999747378752e-06}\n",
      "Best Hyperparameters (Sample Init): {'learning_rate_init': 0.013711242479867403, 'alpha': 9.999999747378752e-06}\n",
      "Best accuracy: 0.81075\n",
      "\n",
      "------Trial number 4------\n"
     ]
    },
    {
     "name": "stderr",
     "output_type": "stream",
     "text": [
      "Bayesian Optimization Progress: 100%|██████████| 5/5 [00:26<00:00,  5.24s/iter, Best Score=0.7930]\n"
     ]
    },
    {
     "name": "stdout",
     "output_type": "stream",
     "text": [
      "Best Score: 0.7930\n",
      "Best Parameters: {'learning_rate_init': 0.028659315299275984, 'alpha': 9.999999747378752e-06}\n",
      "Best Hyperparameters (Random Init): {'learning_rate_init': 0.028659315299275984, 'alpha': 9.999999747378752e-06}\n",
      "Best accuracy: 0.7929999999999999\n",
      "\n"
     ]
    },
    {
     "name": "stderr",
     "output_type": "stream",
     "text": [
      "Bayesian Optimization Progress: 100%|██████████| 5/5 [00:24<00:00,  4.84s/iter, Best Score=0.8020]\n"
     ]
    },
    {
     "name": "stdout",
     "output_type": "stream",
     "text": [
      "Best Score: 0.8020\n",
      "Best Parameters: {'learning_rate_init': 0.008378159958474896, 'alpha': 0.10000001026128302}\n",
      "Best Hyperparameters (Sample Init): {'learning_rate_init': 0.008378159958474896, 'alpha': 0.10000001026128302}\n",
      "Best accuracy: 0.8019999999999999\n",
      "\n",
      "------Trial number 5------\n"
     ]
    },
    {
     "name": "stderr",
     "output_type": "stream",
     "text": [
      "Bayesian Optimization Progress: 100%|██████████| 5/5 [00:28<00:00,  5.65s/iter, Best Score=0.8017]\n"
     ]
    },
    {
     "name": "stdout",
     "output_type": "stream",
     "text": [
      "Best Score: 0.8017\n",
      "Best Parameters: {'learning_rate_init': 0.02122612372988869, 'alpha': 9.999999747378752e-06}\n",
      "Best Hyperparameters (Random Init): {'learning_rate_init': 0.02122612372988869, 'alpha': 9.999999747378752e-06}\n",
      "Best accuracy: 0.80175\n",
      "\n"
     ]
    },
    {
     "name": "stderr",
     "output_type": "stream",
     "text": [
      "Bayesian Optimization Progress: 100%|██████████| 5/5 [00:24<00:00,  4.83s/iter, Best Score=0.8004]"
     ]
    },
    {
     "name": "stdout",
     "output_type": "stream",
     "text": [
      "Best Score: 0.8004\n",
      "Best Parameters: {'learning_rate_init': 0.014159247002564926, 'alpha': 9.999999747378752e-06}\n",
      "Best Hyperparameters (Sample Init): {'learning_rate_init': 0.014159247002564926, 'alpha': 9.999999747378752e-06}\n",
      "Best accuracy: 0.8003750000000001\n",
      "\n",
      "The average of best sample accuracy is 0.803975\n",
      "The std of best sample accuracy is 0.0036188741343130145\n",
      "The average of best random accuracy is 0.798775\n",
      "The std of best random accuracy is 0.004798697740012409\n"
     ]
    },
    {
     "name": "stderr",
     "output_type": "stream",
     "text": [
      "\n"
     ]
    }
   ],
   "source": [
    "# 1. Load the Covertype dataset (A little bit more complicated with few data points)\n",
    "data = fetch_covtype()\n",
    "X = data.data\n",
    "y = data.target\n",
    "\n",
    "\n",
    "subset_size = 10 ** 4\n",
    "X = X[:subset_size]\n",
    "y = y[:subset_size]\n",
    "\n",
    "\n",
    "# Try 5 examples of the process\n",
    "for i in range(trials):\n",
    "    print(f'------Trial number {i + 1}------')\n",
    "    result = test_dataset_mlp(X, y, seed = 40 + i)\n",
    "    sample[i] = result[0]\n",
    "    random[i] = result[1]\n",
    "\n",
    "print(f'The average of best sample accuracy is {np.mean(sample)}')\n",
    "print(f'The std of best sample accuracy is {np.std(sample)}')\n",
    "\n",
    "print(f'The average of best random accuracy is {np.mean(random)}')\n",
    "print(f'The std of best random accuracy is {np.std(random)}')"
   ]
  }
 ],
 "metadata": {
  "kernelspec": {
   "display_name": "Python 3",
   "language": "python",
   "name": "python3"
  },
  "language_info": {
   "codemirror_mode": {
    "name": "ipython",
    "version": 3
   },
   "file_extension": ".py",
   "mimetype": "text/x-python",
   "name": "python",
   "nbconvert_exporter": "python",
   "pygments_lexer": "ipython3",
   "version": "3.11.8"
  }
 },
 "nbformat": 4,
 "nbformat_minor": 2
}
