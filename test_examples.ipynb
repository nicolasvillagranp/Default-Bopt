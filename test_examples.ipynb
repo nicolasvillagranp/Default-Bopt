{
 "cells": [
  {
   "cell_type": "code",
   "execution_count": 4,
   "metadata": {},
   "outputs": [],
   "source": [
    "from src.tests import test_dataset\n",
    "from sklearn.datasets import load_breast_cancer, fetch_covtype\n",
    "import numpy as np\n",
    "import warnings\n",
    "warnings.filterwarnings('ignore')"
   ]
  },
  {
   "cell_type": "code",
   "execution_count": 5,
   "metadata": {},
   "outputs": [
    {
     "name": "stdout",
     "output_type": "stream",
     "text": [
      "------Trial number 1------\n"
     ]
    },
    {
     "name": "stderr",
     "output_type": "stream",
     "text": [
      "Bayesian Optimization Progress: 100%|██████████| 20/20 [00:15<00:00,  1.31iter/s, Best Score=0.9626]\n"
     ]
    },
    {
     "name": "stdout",
     "output_type": "stream",
     "text": [
      "Best Hyperparameters (Random Init): {'n_estimators': 54, 'min_samples_split': 5, 'min_samples_leaf': 1}\n",
      "Best accuracy: 0.9626373626373628\n",
      "\n"
     ]
    },
    {
     "name": "stderr",
     "output_type": "stream",
     "text": [
      "Bayesian Optimization Progress: 100%|██████████| 20/20 [00:11<00:00,  1.71iter/s, Best Score=0.9626]\n"
     ]
    },
    {
     "name": "stdout",
     "output_type": "stream",
     "text": [
      "Best Hyperparameters (Sample Init): {'n_estimators': 59, 'min_samples_split': 6, 'min_samples_leaf': 1}\n",
      "Best accuracy: 0.9626373626373628\n",
      "\n",
      "------Trial number 2------\n"
     ]
    },
    {
     "name": "stderr",
     "output_type": "stream",
     "text": [
      "Bayesian Optimization Progress: 100%|██████████| 20/20 [00:15<00:00,  1.33iter/s, Best Score=0.9648]\n"
     ]
    },
    {
     "name": "stdout",
     "output_type": "stream",
     "text": [
      "Best Hyperparameters (Random Init): {'n_estimators': 200, 'min_samples_split': 2, 'min_samples_leaf': 1}\n",
      "Best accuracy: 0.9648351648351647\n",
      "\n"
     ]
    },
    {
     "name": "stderr",
     "output_type": "stream",
     "text": [
      "Bayesian Optimization Progress: 100%|██████████| 20/20 [00:14<00:00,  1.35iter/s, Best Score=0.9670]\n"
     ]
    },
    {
     "name": "stdout",
     "output_type": "stream",
     "text": [
      "Best Hyperparameters (Sample Init): {'n_estimators': 98, 'min_samples_split': 3, 'min_samples_leaf': 1}\n",
      "Best accuracy: 0.9670329670329672\n",
      "\n",
      "------Trial number 3------\n"
     ]
    },
    {
     "name": "stderr",
     "output_type": "stream",
     "text": [
      "Bayesian Optimization Progress: 100%|██████████| 20/20 [00:18<00:00,  1.08iter/s, Best Score=0.9626]\n"
     ]
    },
    {
     "name": "stdout",
     "output_type": "stream",
     "text": [
      "Best Hyperparameters (Random Init): {'n_estimators': 200, 'min_samples_split': 2, 'min_samples_leaf': 1}\n",
      "Best accuracy: 0.9626373626373628\n",
      "\n"
     ]
    },
    {
     "name": "stderr",
     "output_type": "stream",
     "text": [
      "Bayesian Optimization Progress: 100%|██████████| 20/20 [00:17<00:00,  1.16iter/s, Best Score=0.9626]\n"
     ]
    },
    {
     "name": "stdout",
     "output_type": "stream",
     "text": [
      "Best Hyperparameters (Sample Init): {'n_estimators': 177, 'min_samples_split': 2, 'min_samples_leaf': 1}\n",
      "Best accuracy: 0.9626373626373628\n",
      "\n",
      "------Trial number 4------\n"
     ]
    },
    {
     "name": "stderr",
     "output_type": "stream",
     "text": [
      "Bayesian Optimization Progress: 100%|██████████| 20/20 [00:18<00:00,  1.08iter/s, Best Score=0.9582]\n"
     ]
    },
    {
     "name": "stdout",
     "output_type": "stream",
     "text": [
      "Best Hyperparameters (Random Init): {'n_estimators': 101, 'min_samples_split': 2, 'min_samples_leaf': 3}\n",
      "Best accuracy: 0.9582417582417582\n",
      "\n"
     ]
    },
    {
     "name": "stderr",
     "output_type": "stream",
     "text": [
      "Bayesian Optimization Progress: 100%|██████████| 20/20 [00:19<00:00,  1.05iter/s, Best Score=0.9604]\n"
     ]
    },
    {
     "name": "stdout",
     "output_type": "stream",
     "text": [
      "Best Hyperparameters (Sample Init): {'n_estimators': 123, 'min_samples_split': 10, 'min_samples_leaf': 4}\n",
      "Best accuracy: 0.9604395604395604\n",
      "\n",
      "------Trial number 5------\n"
     ]
    },
    {
     "name": "stderr",
     "output_type": "stream",
     "text": [
      "Bayesian Optimization Progress: 100%|██████████| 20/20 [00:21<00:00,  1.07s/iter, Best Score=0.9714]\n"
     ]
    },
    {
     "name": "stdout",
     "output_type": "stream",
     "text": [
      "Best Hyperparameters (Random Init): {'n_estimators': 182, 'min_samples_split': 4, 'min_samples_leaf': 1}\n",
      "Best accuracy: 0.9714285714285713\n",
      "\n"
     ]
    },
    {
     "name": "stderr",
     "output_type": "stream",
     "text": [
      "Bayesian Optimization Progress: 100%|██████████| 20/20 [00:17<00:00,  1.14iter/s, Best Score=0.9758]"
     ]
    },
    {
     "name": "stdout",
     "output_type": "stream",
     "text": [
      "Best Hyperparameters (Sample Init): {'n_estimators': 97, 'min_samples_split': 3, 'min_samples_leaf': 1}\n",
      "Best accuracy: 0.9758241758241757\n",
      "\n",
      "The average of best sample accuracy is 0.9657142857142859\n",
      "The std of best sample accuracy is 0.005490108130460071\n",
      "The average of best random accuracy is 0.9639560439560441\n",
      "The std of best random accuracy is 0.004306795152146205\n"
     ]
    },
    {
     "name": "stderr",
     "output_type": "stream",
     "text": [
      "\n"
     ]
    }
   ],
   "source": [
    "# 1. Load the breast cancer dataset (Easy example)\n",
    "\n",
    "\n",
    "data = load_breast_cancer()\n",
    "X = data.data\n",
    "y = data.target\n",
    "\n",
    "trials = 5\n",
    "sample = [0] * trials\n",
    "random = [0] * trials\n",
    "\n",
    "\n",
    "# The third argument for the test_dataset function is the seed for reproductibility. \n",
    "# The warning that triggers is due to a lack of variance of Y outcomes during bayes opt.\n",
    "\n",
    "# Try 5 examples of the process\n",
    "for i in range(trials):\n",
    "    print(f'------Trial number {i + 1}------')\n",
    "    result = test_dataset(X, y, seed=40 + i)\n",
    "    sample[i] = result[0]\n",
    "    random[i] = result[1]\n",
    "\n",
    "print(f'The average of best sample accuracy is {np.mean(sample)}')\n",
    "print(f'The std of best sample accuracy is {np.std(sample)}')\n",
    "\n",
    "print(f'The average of best random accuracy is {np.mean(random)}')\n",
    "print(f'The std of best random accuracy is {np.std(random)}')"
   ]
  },
  {
   "cell_type": "code",
   "execution_count": 6,
   "metadata": {},
   "outputs": [
    {
     "name": "stdout",
     "output_type": "stream",
     "text": [
      "------Trial number 1------\n"
     ]
    },
    {
     "name": "stderr",
     "output_type": "stream",
     "text": [
      "Bayesian Optimization Progress: 100%|██████████| 20/20 [00:49<00:00,  2.48s/iter, Best Score=0.8448]\n"
     ]
    },
    {
     "name": "stdout",
     "output_type": "stream",
     "text": [
      "Best Hyperparameters (Random Init): {'n_estimators': 200, 'min_samples_split': 3, 'min_samples_leaf': 1}\n",
      "Best accuracy: 0.8447500000000001\n",
      "\n"
     ]
    },
    {
     "name": "stderr",
     "output_type": "stream",
     "text": [
      "Bayesian Optimization Progress: 100%|██████████| 20/20 [00:41<00:00,  2.09s/iter, Best Score=0.8471]\n"
     ]
    },
    {
     "name": "stdout",
     "output_type": "stream",
     "text": [
      "Best Hyperparameters (Sample Init): {'n_estimators': 145, 'min_samples_split': 2, 'min_samples_leaf': 1}\n",
      "Best accuracy: 0.8471250000000001\n",
      "\n",
      "------Trial number 2------\n"
     ]
    },
    {
     "name": "stderr",
     "output_type": "stream",
     "text": [
      "Bayesian Optimization Progress: 100%|██████████| 20/20 [00:46<00:00,  2.31s/iter, Best Score=0.8435]\n"
     ]
    },
    {
     "name": "stdout",
     "output_type": "stream",
     "text": [
      "Best Hyperparameters (Random Init): {'n_estimators': 190, 'min_samples_split': 4, 'min_samples_leaf': 1}\n",
      "Best accuracy: 0.8435\n",
      "\n"
     ]
    },
    {
     "name": "stderr",
     "output_type": "stream",
     "text": [
      "Bayesian Optimization Progress: 100%|██████████| 20/20 [00:40<00:00,  2.04s/iter, Best Score=0.8444]\n"
     ]
    },
    {
     "name": "stdout",
     "output_type": "stream",
     "text": [
      "Best Hyperparameters (Sample Init): {'n_estimators': 133, 'min_samples_split': 4, 'min_samples_leaf': 1}\n",
      "Best accuracy: 0.844375\n",
      "\n",
      "------Trial number 3------\n"
     ]
    },
    {
     "name": "stderr",
     "output_type": "stream",
     "text": [
      "Bayesian Optimization Progress: 100%|██████████| 20/20 [00:56<00:00,  2.81s/iter, Best Score=0.8480]\n"
     ]
    },
    {
     "name": "stdout",
     "output_type": "stream",
     "text": [
      "Best Hyperparameters (Random Init): {'n_estimators': 200, 'min_samples_split': 2, 'min_samples_leaf': 1}\n",
      "Best accuracy: 0.8480000000000001\n",
      "\n"
     ]
    },
    {
     "name": "stderr",
     "output_type": "stream",
     "text": [
      "Bayesian Optimization Progress: 100%|██████████| 20/20 [00:55<00:00,  2.77s/iter, Best Score=0.8480]\n"
     ]
    },
    {
     "name": "stdout",
     "output_type": "stream",
     "text": [
      "Best Hyperparameters (Sample Init): {'n_estimators': 200, 'min_samples_split': 2, 'min_samples_leaf': 1}\n",
      "Best accuracy: 0.8480000000000001\n",
      "\n",
      "------Trial number 4------\n"
     ]
    },
    {
     "name": "stderr",
     "output_type": "stream",
     "text": [
      "Bayesian Optimization Progress: 100%|██████████| 20/20 [00:50<00:00,  2.52s/iter, Best Score=0.8421]\n"
     ]
    },
    {
     "name": "stdout",
     "output_type": "stream",
     "text": [
      "Best Hyperparameters (Random Init): {'n_estimators': 200, 'min_samples_split': 2, 'min_samples_leaf': 1}\n",
      "Best accuracy: 0.842125\n",
      "\n"
     ]
    },
    {
     "name": "stderr",
     "output_type": "stream",
     "text": [
      "Bayesian Optimization Progress: 100%|██████████| 20/20 [00:53<00:00,  2.66s/iter, Best Score=0.8430]\n"
     ]
    },
    {
     "name": "stdout",
     "output_type": "stream",
     "text": [
      "Best Hyperparameters (Sample Init): {'n_estimators': 171, 'min_samples_split': 2, 'min_samples_leaf': 1}\n",
      "Best accuracy: 0.843\n",
      "\n",
      "------Trial number 5------\n"
     ]
    },
    {
     "name": "stderr",
     "output_type": "stream",
     "text": [
      "Bayesian Optimization Progress: 100%|██████████| 20/20 [00:50<00:00,  2.50s/iter, Best Score=0.8425]\n"
     ]
    },
    {
     "name": "stdout",
     "output_type": "stream",
     "text": [
      "Best Hyperparameters (Random Init): {'n_estimators': 165, 'min_samples_split': 2, 'min_samples_leaf': 1}\n",
      "Best accuracy: 0.8425\n",
      "\n"
     ]
    },
    {
     "name": "stderr",
     "output_type": "stream",
     "text": [
      "Bayesian Optimization Progress: 100%|██████████| 20/20 [00:50<00:00,  2.52s/iter, Best Score=0.8432]"
     ]
    },
    {
     "name": "stdout",
     "output_type": "stream",
     "text": [
      "Best Hyperparameters (Sample Init): {'n_estimators': 200, 'min_samples_split': 3, 'min_samples_leaf': 1}\n",
      "Best accuracy: 0.8432499999999999\n",
      "\n",
      "The average of best sample accuracy is 0.8451500000000001\n",
      "The std of best sample accuracy is 0.0020423638265500764\n",
      "The average of best random accuracy is 0.8441750000000001\n",
      "The std of best random accuracy is 0.002117781858454766\n"
     ]
    },
    {
     "name": "stderr",
     "output_type": "stream",
     "text": [
      "\n"
     ]
    }
   ],
   "source": [
    "# 1. Load the Covertype dataset (A little bit more complicated with few data points)\n",
    "data = fetch_covtype()\n",
    "X = data.data\n",
    "y = data.target\n",
    "\n",
    "\n",
    "subset_size = 10 ** 4\n",
    "X = X[:subset_size]\n",
    "y = y[:subset_size]\n",
    "\n",
    "\n",
    "# Try 5 examples of the process\n",
    "for i in range(trials):\n",
    "    print(f'------Trial number {i + 1}------')\n",
    "    result = test_dataset(X, y, seed= 40 + i)\n",
    "    sample[i] = result[0]\n",
    "    random[i] = result[1]\n",
    "\n",
    "print(f'The average of best sample accuracy is {np.mean(sample)}')\n",
    "print(f'The std of best sample accuracy is {np.std(sample)}')\n",
    "\n",
    "print(f'The average of best random accuracy is {np.mean(random)}')\n",
    "print(f'The std of best random accuracy is {np.std(random)}')\n"
   ]
  }
 ],
 "metadata": {
  "kernelspec": {
   "display_name": "Python 3",
   "language": "python",
   "name": "python3"
  },
  "language_info": {
   "codemirror_mode": {
    "name": "ipython",
    "version": 3
   },
   "file_extension": ".py",
   "mimetype": "text/x-python",
   "name": "python",
   "nbconvert_exporter": "python",
   "pygments_lexer": "ipython3",
   "version": "3.11.8"
  }
 },
 "nbformat": 4,
 "nbformat_minor": 2
}
